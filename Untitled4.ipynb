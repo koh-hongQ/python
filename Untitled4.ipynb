{
  "nbformat": 4,
  "nbformat_minor": 0,
  "metadata": {
    "colab": {
      "provenance": [],
      "authorship_tag": "ABX9TyOzDzT1kgYAVRB2nXB6yxew",
      "include_colab_link": true
    },
    "kernelspec": {
      "name": "python3",
      "display_name": "Python 3"
    },
    "language_info": {
      "name": "python"
    }
  },
  "cells": [
    {
      "cell_type": "markdown",
      "metadata": {
        "id": "view-in-github",
        "colab_type": "text"
      },
      "source": [
        "<a href=\"https://colab.research.google.com/github/koh-hongQ/python/blob/main/Untitled4.ipynb\" target=\"_parent\"><img src=\"https://colab.research.google.com/assets/colab-badge.svg\" alt=\"Open In Colab\"/></a>"
      ]
    },
    {
      "cell_type": "code",
      "execution_count": 1,
      "metadata": {
        "id": "ILyXh5SWAhhS",
        "outputId": "ef73b876-0d80-4069-c8ef-1a80a797699d",
        "colab": {
          "base_uri": "https://localhost:8080/"
        }
      },
      "outputs": [
        {
          "output_type": "stream",
          "name": "stdout",
          "text": [
            "3\n",
            "5\n",
            "3와 5는 서로의 약수가 아니다.\n"
          ]
        }
      ],
      "source": [
        "x=int(input())\n",
        "y=int(input())\n",
        "\n",
        "def f(a,b):\n",
        "  if b%a==0:\n",
        "    return 1\n",
        "  else:\n",
        "    return 0\n",
        "\n",
        "if f(y,x)==f(x,y)==1:\n",
        "  print('{0}와 {1}는 같은 숫자이다.'.format(x,y))\n",
        "elif f(x,y)==1:\n",
        "  print('{0}는 {1}의 약수이지만, {1}가 아니다.'.format(x,y))\n",
        "elif f(y,x)==1:\n",
        "   print('{0}는 {1}의 약수이지만, {1}가 아니다.'.format(y,x))\n",
        "else:\n",
        "  print('{0}와 {1}는 서로의 약수가 아니다.'.format(x,y))"
      ]
    }
  ]
}