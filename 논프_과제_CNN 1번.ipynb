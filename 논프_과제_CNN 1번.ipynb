{
  "nbformat": 4,
  "nbformat_minor": 0,
  "metadata": {
    "colab": {
      "provenance": [],
      "authorship_tag": "ABX9TyNfWbv40cdt1Dfyqe5Id+wp",
      "include_colab_link": true
    },
    "kernelspec": {
      "name": "python3",
      "display_name": "Python 3"
    },
    "language_info": {
      "name": "python"
    }
  },
  "cells": [
    {
      "cell_type": "markdown",
      "metadata": {
        "id": "view-in-github",
        "colab_type": "text"
      },
      "source": [
        "<a href=\"https://colab.research.google.com/github/koh-hongQ/python/blob/main/%EB%85%BC%ED%94%84_%EA%B3%BC%EC%A0%9C_CNN%201%EB%B2%88.ipynb\" target=\"_parent\"><img src=\"https://colab.research.google.com/assets/colab-badge.svg\" alt=\"Open In Colab\"/></a>"
      ]
    },
    {
      "cell_type": "code",
      "execution_count": 1,
      "metadata": {
        "id": "K1w2pa71E20U"
      },
      "outputs": [],
      "source": [
        "from tensorflow.keras.models import Sequential\n",
        "from tensorflow.keras.layers import Dense, Dropout, Flatten, Conv2D, MaxPooling2D\n",
        "from tensorflow.keras.callbacks import ModelCheckpoint,EarlyStopping\n",
        "from tensorflow.keras.datasets import mnist\n",
        "from tensorflow.keras.utils import to_categorical\n",
        "\n",
        "import matplotlib.pyplot as plt\n",
        "import numpy as np\n",
        "\n",
        "import os\n"
      ]
    },
    {
      "cell_type": "code",
      "source": [
        "import tensorflow as tf\n",
        "import matplotlib.pyplot as plt\n",
        "import numpy as np\n",
        "\n",
        "\n",
        "fashion_mnist = tf.keras.datasets.fashion_mnist\n",
        "\n",
        "(x_train, y_train), (x_test, y_test) = fashion_mnist.load_data()"
      ],
      "metadata": {
        "colab": {
          "base_uri": "https://localhost:8080/"
        },
        "id": "FqWAEkG4E7_C",
        "outputId": "684b0716-2a75-441c-c34f-ac75deb542ab"
      },
      "execution_count": 2,
      "outputs": [
        {
          "output_type": "stream",
          "name": "stdout",
          "text": [
            "Downloading data from https://storage.googleapis.com/tensorflow/tf-keras-datasets/train-labels-idx1-ubyte.gz\n",
            "29515/29515 [==============================] - 0s 0us/step\n",
            "Downloading data from https://storage.googleapis.com/tensorflow/tf-keras-datasets/train-images-idx3-ubyte.gz\n",
            "26421880/26421880 [==============================] - 1s 0us/step\n",
            "Downloading data from https://storage.googleapis.com/tensorflow/tf-keras-datasets/t10k-labels-idx1-ubyte.gz\n",
            "5148/5148 [==============================] - 0s 0us/step\n",
            "Downloading data from https://storage.googleapis.com/tensorflow/tf-keras-datasets/t10k-images-idx3-ubyte.gz\n",
            "4422102/4422102 [==============================] - 0s 0us/step\n"
          ]
        }
      ]
    },
    {
      "cell_type": "code",
      "source": [
        "type(x_train)"
      ],
      "metadata": {
        "colab": {
          "base_uri": "https://localhost:8080/"
        },
        "id": "6Tm5NkC2E9Z-",
        "outputId": "0e2675fb-2e04-414b-ae95-d4fa8aa93c81"
      },
      "execution_count": 3,
      "outputs": [
        {
          "output_type": "execute_result",
          "data": {
            "text/plain": [
              "numpy.ndarray"
            ]
          },
          "metadata": {},
          "execution_count": 3
        }
      ]
    },
    {
      "cell_type": "code",
      "source": [
        "print(x_train.shape)"
      ],
      "metadata": {
        "colab": {
          "base_uri": "https://localhost:8080/"
        },
        "id": "6nXqBqFtFBj4",
        "outputId": "81fda356-cd94-40b1-e018-72e7302ff749"
      },
      "execution_count": 4,
      "outputs": [
        {
          "output_type": "stream",
          "name": "stdout",
          "text": [
            "(60000, 28, 28)\n"
          ]
        }
      ]
    },
    {
      "cell_type": "code",
      "source": [
        "# 첫 번째 이미지를 확인해 봅시다.\n",
        "plt.imshow(x_train[257], cmap='Greys')\n",
        "plt.show()"
      ],
      "metadata": {
        "colab": {
          "base_uri": "https://localhost:8080/",
          "height": 265
        },
        "id": "8SJ1SYGUFDVN",
        "outputId": "484e9f45-f521-4919-8943-eb9c0ae20022"
      },
      "execution_count": 5,
      "outputs": [
        {
          "output_type": "display_data",
          "data": {
            "text/plain": [
              "<Figure size 432x288 with 1 Axes>"
            ],
            "image/png": "[encoded data removed]"
          },
          "metadata": {
            "needs_background": "light"
          }
        }
      ]
    },
    {
      "cell_type": "code",
      "source": [
        "# 이미지가 인식되는 원리를 알아봅시다.\n",
        "\n",
        "import sys\n",
        "\n",
        "for x in x_train[257]:\n",
        "    for i in x:\n",
        "        sys.stdout.write(\"%-3s\" % i)\n",
        "    sys.stdout.write('\\n')"
      ],
      "metadata": {
        "colab": {
          "base_uri": "https://localhost:8080/"
        },
        "id": "s31ZwEwBFFDJ",
        "outputId": "81411240-c7e3-46b2-ed3d-a41ec6833c09"
      },
      "execution_count": 6,
      "outputs": [
        {
          "output_type": "stream",
          "name": "stdout",
          "text": [
            "0  0  0  0  0  0  0  0  0  0  0  0  0  0  0  0  0  0  0  0  0  0  0  0  0  0  0  0  \n",
            "0  0  0  0  0  0  0  0  0  0  0  0  0  0  0  0  0  0  0  0  0  0  0  0  0  0  0  0  \n",
            "0  0  0  0  0  0  0  0  0  0  0  0  0  0  0  0  0  0  0  0  0  0  0  0  0  0  0  0  \n",
            "0  0  0  0  0  0  0  0  0  0  0  0  0  0  0  0  0  0  0  0  0  0  0  0  0  0  0  0  \n",
            "0  0  0  0  0  0  0  0  0  0  0  0  0  0  0  0  0  0  0  0  0  0  0  0  0  0  0  0  \n",
            "0  0  0  0  0  0  0  0  0  0  0  0  0  0  0  0  0  0  0  0  0  0  0  0  0  0  0  0  \n",
            "0  0  0  0  0  0  0  0  0  0  0  0  0  0  0  0  0  0  0  0  0  0  0  0  0  0  0  0  \n",
            "0  0  0  0  0  0  0  0  0  0  0  0  0  0  0  0  0  0  0  0  0  0  0  0  0  0  0  0  \n",
            "0  0  0  0  0  0  0  0  0  0  0  9  0  0  90 0  0  0  0  1  0  0  0  14 52 97 13 0  \n",
            "0  0  0  0  0  0  0  0  0  3  0  0  26 16211210810640 0  0  0  17 81 97 84 69 53 0  \n",
            "0  0  0  0  0  0  0  2  2  0  0  11517010197 75 81 10811246 62 11485 79 61 18 0  0  \n",
            "0  0  0  0  2  4  0  0  0  45 1431230  0  45 84 10075 73 10811276 56 8  0  0  0  1  \n",
            "0  1  0  1  2  0  0  30 1291511150  0  0  0  0  20 69 85 95 57 75 0  0  1  3  1  0  \n",
            "0  1  1  0  0  31 13114810647 1111450  0  1  0  0  0  23 97 73 57 0  0  0  0  0  3  \n",
            "0  0  0  0  51 15411910379 11264 11982 0  0  0  0  0  0  10176 32 0  0  0  0  0  0  \n",
            "0  0  0  0  30 13085 11596 12246 78 1030  0  0  0  0  41 90 42 75 11912413013010761 \n",
            "85 18913113778 96 90 10984 12443 79 47 68 123146158172174137142168163157128101135153\n",
            "15320215015454 54 79 90 61 10719713087 12615717217416315716216415916215614112916498 \n",
            "2  1571931932151761571671571581832182552172112192352412372192121921921972012181963  \n",
            "0  0  15 73 14718020619821520817814193 42 4  0  0  21 62 10315714715414311876 3  0  \n",
            "0  0  0  0  0  0  0  0  0  0  0  0  0  0  0  0  0  0  0  0  0  0  0  0  0  0  0  0  \n",
            "0  0  0  0  0  0  0  0  0  0  0  0  0  0  0  0  0  0  0  0  0  0  0  0  0  0  0  0  \n",
            "0  0  0  0  0  0  0  0  0  0  0  0  0  0  0  0  0  0  0  0  0  0  0  0  0  0  0  0  \n",
            "0  0  0  0  0  0  0  0  0  0  0  0  0  0  0  0  0  0  0  0  0  0  0  0  0  0  0  0  \n",
            "0  0  0  0  0  0  0  0  0  0  0  0  0  0  0  0  0  0  0  0  0  0  0  0  0  0  0  0  \n",
            "0  0  0  0  0  0  0  0  0  0  0  0  0  0  0  0  0  0  0  0  0  0  0  0  0  0  0  0  \n",
            "0  0  0  0  0  0  0  0  0  0  0  0  0  0  0  0  0  0  0  0  0  0  0  0  0  0  0  0  \n",
            "0  0  0  0  0  0  0  0  0  0  0  0  0  0  0  0  0  0  0  0  0  0  0  0  0  0  0  0  \n"
          ]
        }
      ]
    },
    {
      "cell_type": "code",
      "source": [
        "x_train = x_train.reshape(x_train.shape[0], 28, 28, 1).astype('float32') / 255\n",
        "x_test = x_test.reshape(x_test.shape[0], 28, 28, 1).astype('float32') / 255\n",
        "y_train = to_categorical(y_train)\n",
        "y_test = to_categorical(y_test)"
      ],
      "metadata": {
        "id": "UU4m0a2dFF0s"
      },
      "execution_count": 7,
      "outputs": []
    },
    {
      "cell_type": "code",
      "source": [
        "# 컨볼루션 신경망의 설정\n",
        "model = Sequential()\n",
        "model.add(Conv2D(31, kernel_size=(2,2), input_shape=(28, 28, 1), activation='relu'))\n",
        "model.add(Conv2D(62, (3,3), activation='relu'))\n",
        "model.add(MaxPooling2D(pool_size=(2,2)))\n",
        "model.add(Dropout(0.25))\n",
        "model.add(Flatten())\n",
        "model.add(Dense(127,  activation='relu'))\n",
        "model.add(Dropout(0.2))\n",
        "model.add(Dense(10, activation='softmax'))\n",
        "\n",
        "# 모델의 실행 옵션을 설정합니다.\n",
        "model.compile(loss='categorical_crossentropy',\n",
        "              optimizer='adam',\n",
        "              metrics=['accuracy'])\n",
        "\n",
        "# 모델 최적화를 위한 설정 구간입니다.\n",
        "\n",
        "#MODEL_DIR = './data/model/'\n",
        "#if not os.path.exists(MODEL_DIR):\n",
        "#    os.mkdir(MODEL_DIR)\n",
        "\n",
        "modelpath=\"./data/model/MNIST_CNN.hdf5\"\n",
        "\n",
        "\n",
        "checkpointer = ModelCheckpoint(filepath=modelpath, monitor='val_loss', verbose=1, save_best_only=True)\n",
        "early_stopping_callback = EarlyStopping(monitor='val_loss', patience=10)\n",
        "\n",
        "# 모델을 실행합니다.\n",
        "history = model.fit(x_train, y_train, validation_split=0.25, epochs=300, batch_size=200, verbose=0, callbacks=[early_stopping_callback,checkpointer])\n",
        "\n",
        "# 테스트 정확도를 출력합니다.\n",
        "print(\"\\n Test Accuracy: %.4f\" % (model.evaluate(x_test, y_test)[1]))"
      ],
      "metadata": {
        "colab": {
          "base_uri": "https://localhost:8080/"
        },
        "id": "tEp7wJdyFPV2",
        "outputId": "170c4d3b-abb2-4add-ef8e-975557901776"
      },
      "execution_count": 9,
      "outputs": [
        {
          "output_type": "stream",
          "name": "stdout",
          "text": [
            "\n",
            "Epoch 1: val_loss improved from inf to 0.36040, saving model to ./data/model/MNIST_CNN.hdf5\n",
            "\n",
            "Epoch 2: val_loss improved from 0.36040 to 0.29899, saving model to ./data/model/MNIST_CNN.hdf5\n",
            "\n",
            "Epoch 3: val_loss improved from 0.29899 to 0.27096, saving model to ./data/model/MNIST_CNN.hdf5\n",
            "\n",
            "Epoch 4: val_loss improved from 0.27096 to 0.25013, saving model to ./data/model/MNIST_CNN.hdf5\n",
            "\n",
            "Epoch 5: val_loss improved from 0.25013 to 0.24563, saving model to ./data/model/MNIST_CNN.hdf5\n",
            "\n",
            "Epoch 6: val_loss improved from 0.24563 to 0.23396, saving model to ./data/model/MNIST_CNN.hdf5\n",
            "\n",
            "Epoch 7: val_loss improved from 0.23396 to 0.22494, saving model to ./data/model/MNIST_CNN.hdf5\n",
            "\n",
            "Epoch 8: val_loss improved from 0.22494 to 0.22283, saving model to ./data/model/MNIST_CNN.hdf5\n",
            "\n",
            "Epoch 9: val_loss did not improve from 0.22283\n",
            "\n",
            "Epoch 10: val_loss improved from 0.22283 to 0.22257, saving model to ./data/model/MNIST_CNN.hdf5\n",
            "\n",
            "Epoch 11: val_loss improved from 0.22257 to 0.22162, saving model to ./data/model/MNIST_CNN.hdf5\n",
            "\n",
            "Epoch 12: val_loss did not improve from 0.22162\n",
            "\n",
            "Epoch 13: val_loss did not improve from 0.22162\n",
            "\n",
            "Epoch 14: val_loss did not improve from 0.22162\n",
            "\n",
            "Epoch 15: val_loss did not improve from 0.22162\n",
            "\n",
            "Epoch 16: val_loss did not improve from 0.22162\n",
            "\n",
            "Epoch 17: val_loss did not improve from 0.22162\n",
            "\n",
            "Epoch 18: val_loss did not improve from 0.22162\n",
            "\n",
            "Epoch 19: val_loss did not improve from 0.22162\n",
            "\n",
            "Epoch 20: val_loss did not improve from 0.22162\n",
            "\n",
            "Epoch 21: val_loss did not improve from 0.22162\n",
            "313/313 [==============================] - 6s 19ms/step - loss: 0.3226 - accuracy: 0.9183\n",
            "\n",
            " Test Accuracy: 0.9183\n"
          ]
        }
      ]
    },
    {
      "cell_type": "code",
      "source": [
        "# 검증셋과 학습셋의 오차를 그래프로 표현\n",
        "y_vloss = history.history['val_loss']\n",
        "y_loss = history.history['loss']\n",
        "\n",
        "x_len = np.arange(len(y_loss))\n",
        "plt.plot(x_len, y_vloss, marker='.', c=\"red\", label='Testset_loss')\n",
        "plt.plot(x_len, y_loss, marker='.', c=\"blue\", label='Trainset_loss')\n",
        "\n",
        "\n",
        "plt.legend(loc='upper right')\n",
        "plt.grid()\n",
        "plt.xlabel('epoch')\n",
        "plt.ylabel('loss')\n",
        "plt.show()"
      ],
      "metadata": {
        "colab": {
          "base_uri": "https://localhost:8080/",
          "height": 279
        },
        "id": "Y0i84wu7Fj3y",
        "outputId": "c5105cc0-469a-4b47-c4ec-f1bb2bc81aa5"
      },
      "execution_count": 10,
      "outputs": [
        {
          "output_type": "display_data",
          "data": {
            "text/plain": [
              "<Figure size 432x288 with 1 Axes>"
            ],
            "image/png": "[encoded data removed]"
          },
          "metadata": {
            "needs_background": "light"
          }
        }
      ]
    }
  ]
}