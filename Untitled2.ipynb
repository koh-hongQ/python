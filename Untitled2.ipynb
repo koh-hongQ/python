{
  "nbformat": 4,
  "nbformat_minor": 0,
  "metadata": {
    "colab": {
      "provenance": [],
      "authorship_tag": "ABX9TyO4GRaxuzpFsMV18CHZb30L",
      "include_colab_link": true
    },
    "kernelspec": {
      "name": "python3",
      "display_name": "Python 3"
    },
    "language_info": {
      "name": "python"
    }
  },
  "cells": [
    {
      "cell_type": "markdown",
      "metadata": {
        "id": "view-in-github",
        "colab_type": "text"
      },
      "source": [
        "<a href=\"https://colab.research.google.com/github/koh-hongQ/python/blob/main/Untitled2.ipynb\" target=\"_parent\"><img src=\"https://colab.research.google.com/assets/colab-badge.svg\" alt=\"Open In Colab\"/></a>"
      ]
    },
    {
      "cell_type": "code",
      "source": [
        "\n",
        "\n",
        "if n >30 :\n",
        "  def print_star_and_num(star, num):\n",
        "      while star != 0:\n",
        "        print ('*', end='')\n",
        "        star -= 1\n",
        "      print(num)\n",
        "\n",
        "  n=int[input()]\n",
        "\n",
        "  i = 0\n",
        "  while i != n:\n",
        "      print_star_and_num(i, i+1)\n",
        "      i+=1\n",
        "else :\n",
        "  print('너무 많다.')"
      ],
      "metadata": {
        "colab": {
          "base_uri": "https://localhost:8080/"
        },
        "id": "6HGPuGYqksOH",
        "outputId": "657560df-4e2a-426d-8502-75a9eddb118c"
      },
      "execution_count": 57,
      "outputs": [
        {
          "output_type": "stream",
          "name": "stdout",
          "text": [
            "너무 많다.\n"
          ]
        }
      ]
    },
    {
      "cell_type": "code",
      "source": [
        "from google.colab import drive\n",
        "drive.mount('/content/drive')"
      ],
      "metadata": {
        "id": "-9pvJVnCGyy9"
      },
      "execution_count": null,
      "outputs": []
    },
    {
      "cell_type": "code",
      "source": [
        "score = int(input('자연수 한 개를 입력하세요.:'))\n",
        "\n",
        "def bubble_sort(array):\n",
        "    for i in range(len(array)-1):\n",
        "        for j in range(len(array)-i-1):\n",
        "            print(j)\n",
        "            if array[j] > array[j+1]:\n",
        "                array[j], array[j+1] = array[j+1],array[j]\n",
        "    return\n",
        "\n",
        "\n",
        "bubble_sort(score)\n",
        "print(score)\n",
        "\n",
        "\n",
        "count = 0\n",
        "while count < 100 :\n",
        "  if score == 0 :\n",
        "    print ('이제 그만하세요.')\n",
        "    count = False\n",
        "else :\n",
        "  print ('계속 입력을 원하시면, 자연수 한 개를 입력하시고, 아니라면 0을 입력하세요.')\n",
        "  count +=1"
      ],
      "metadata": {
        "id": "2WpuF1VXlnIY"
      },
      "execution_count": null,
      "outputs": []
    }
  ]
}