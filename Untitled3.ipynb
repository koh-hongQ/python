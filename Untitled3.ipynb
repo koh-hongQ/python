{
  "nbformat": 4,
  "nbformat_minor": 0,
  "metadata": {
    "colab": {
      "provenance": [],
      "authorship_tag": "ABX9TyNbD0WwtAaTmpguPzX0pYHk",
      "include_colab_link": true
    },
    "kernelspec": {
      "name": "python3",
      "display_name": "Python 3"
    },
    "language_info": {
      "name": "python"
    }
  },
  "cells": [
    {
      "cell_type": "markdown",
      "metadata": {
        "id": "view-in-github",
        "colab_type": "text"
      },
      "source": [
        "<a href=\"https://colab.research.google.com/github/koh-hongQ/python/blob/main/Untitled3.ipynb\" target=\"_parent\"><img src=\"https://colab.research.google.com/assets/colab-badge.svg\" alt=\"Open In Colab\"/></a>"
      ]
    },
    {
      "cell_type": "code",
      "execution_count": null,
      "metadata": {
        "id": "3XLV6Rwo_IyC"
      },
      "outputs": [],
      "source": [
        "# '????' 부분을 채워주세요.\n",
        "\n",
        "AAA= list (range(2,33,3)) \n",
        "print('AAA=',AAA)"
      ]
    },
    {
      "cell_type": "code",
      "source": [
        "# ??? 부분을 채워 주세요.\n",
        "\n",
        "def sum(x=0, y=0):\n",
        "  return x+y\n",
        "\n",
        "print(sum(3,7)) ## sum(3,7)= 3+7 \n",
        "print(sum())    ## sum() = 0"
      ],
      "metadata": {
        "id": "A0NgmGv5_nNL"
      },
      "execution_count": null,
      "outputs": []
    },
    {
      "cell_type": "code",
      "source": [
        "# ???? 부분을 채워주세요.\n",
        "\n",
        "def print_factorial(*aaa):\n",
        "    for i in aaa:\n",
        "        print(i)\n",
        "\n",
        "abc = (x for x in range(1,10))\n",
        "\n",
        "print_factorial(*abc)"
      ],
      "metadata": {
        "id": "poifYp4c_pjJ"
      },
      "execution_count": null,
      "outputs": []
    },
    {
      "cell_type": "code",
      "source": [
        "# ???? 부분을 채워주세요.\n",
        "\n",
        "def multiplication(**x):\n",
        "  for y in x.keys():\n",
        "    print(y, x[y])\n",
        "\n",
        "multiplication(A=1,B=2,C=3,D=4,F=5)"
      ],
      "metadata": {
        "id": "dud3tSBG_rDP"
      },
      "execution_count": null,
      "outputs": []
    },
    {
      "cell_type": "code",
      "source": [
        "### ??????????????를 채워 넣으세요.\n",
        "\n",
        "x = 1, 30, 2\n",
        "\n",
        "[x for x in range(*x)]"
      ],
      "metadata": {
        "id": "zYmTpzVm_sWO"
      },
      "execution_count": null,
      "outputs": []
    },
    {
      "cell_type": "code",
      "source": [
        "### 아래와 같은 결과를 갖도록 수정하여라.\n",
        "\n",
        "\n",
        "def multi(A,B,C):\n",
        "  print(A*B*C)\n",
        "\n",
        "\n",
        "Dic={'A':1,'B':2,'C':'3',  }\n",
        "\n",
        "multi(**Dic)"
      ],
      "metadata": {
        "id": "HQbeQv5j_tvh"
      },
      "execution_count": null,
      "outputs": []
    },
    {
      "cell_type": "code",
      "source": [
        "### 아래와 같은 결과를 갖도록 수정하여라.\n",
        "\n",
        "\n",
        "txt='나는 대단해요'\n",
        "\n",
        "print(txt.replace('대단해요','엄청나요') )"
      ],
      "metadata": {
        "id": "uyvAHgjF_vgf"
      },
      "execution_count": null,
      "outputs": []
    },
    {
      "cell_type": "code",
      "source": [
        "### 아래와 같은 결과를 갖도록 수정하여라.\n",
        "\n",
        "class math_student:\n",
        "    name = str()\n",
        "    def study_math(self):                   \n",
        "        print(self.name + \"studies math.\")   \n",
        "\n",
        "student = math_student()\n",
        "print(type(student))\n",
        "\n",
        "student.name='홍길동'\n",
        "print(student.name)\n",
        "student.study_math()"
      ],
      "metadata": {
        "id": "SdAi7Kk__wtX"
      },
      "execution_count": null,
      "outputs": []
    },
    {
      "cell_type": "code",
      "source": [
        "##  ???? 부분을 채워주세요.\n",
        "\n",
        "\n",
        "class math_student2:\n",
        "    def __init__(self, name):\n",
        "      self.name = name\n",
        "\n",
        "    def study_math2(self):                \n",
        "       print(self.name + \" studies math.\")  \n",
        "\n",
        "student = math_student2('전우치')\n",
        "\n",
        "\n",
        "student.study_math2()\n",
        "\n",
        "print(student.name)"
      ],
      "metadata": {
        "id": "Uuys0QIS_zq2"
      },
      "execution_count": null,
      "outputs": []
    },
    {
      "cell_type": "code",
      "source": [
        "### ??????????????를 채워 넣으세요.\n",
        "\n",
        "\n",
        "class kim_su_han_moo:\n",
        "\n",
        "    long_name=list()\n",
        "\n",
        "    def __init__(self,name):\n",
        "        self.name = name\n",
        "            \n",
        "    def added_name(self,new_name):\n",
        "        self.long_name.append(new_name)\n",
        "\n",
        "kim = kim_su_han_moo('김수한무')\n",
        "\n",
        "geobooki= kim_su_han_moo('거북이와 두루미')\n",
        "\n",
        "kim.added_name('삼천갑자')\n",
        "geobooki.added_name('동방삭')\n",
        "\n",
        "\n",
        "print(kim.long_name)\n",
        "print(geobooki.long_name)"
      ],
      "metadata": {
        "id": "AB5xnEmR_138"
      },
      "execution_count": null,
      "outputs": []
    },
    {
      "cell_type": "code",
      "source": [
        "### ??????????????를 채워 넣으세요.\n",
        "\n",
        "import numpy as np\n",
        "\n",
        "import matplotlib.pyplot as plt\n",
        "\n",
        "x = np.arange(0, 6, 0.1)\n",
        "print(x)\n",
        "y = np.sin(x)\n",
        "print(y)\n",
        "plt.plot(x,y)\n",
        "plt.xlabel('x axis')\n",
        "plt.ylabel('y axis')\n",
        "plt.title('sample')\n",
        "plt.legend(loc='upper right')\n",
        "plt.show()"
      ],
      "metadata": {
        "id": "5pLMoWHf_3po"
      },
      "execution_count": null,
      "outputs": []
    }
  ]
}