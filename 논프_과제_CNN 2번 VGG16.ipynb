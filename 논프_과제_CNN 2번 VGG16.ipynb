{
  "nbformat": 4,
  "nbformat_minor": 0,
  "metadata": {
    "colab": {
      "provenance": [],
      "authorship_tag": "ABX9TyNt2/WfZuEzYru8iEKVmkgi",
      "include_colab_link": true
    },
    "kernelspec": {
      "name": "python3",
      "display_name": "Python 3"
    },
    "language_info": {
      "name": "python"
    }
  },
  "cells": [
    {
      "cell_type": "markdown",
      "metadata": {
        "id": "view-in-github",
        "colab_type": "text"
      },
      "source": [
        "<a href=\"https://colab.research.google.com/github/koh-hongQ/python/blob/main/%EB%85%BC%ED%94%84_%EA%B3%BC%EC%A0%9C_CNN%202%EB%B2%88%20VGG16.ipynb\" target=\"_parent\"><img src=\"https://colab.research.google.com/assets/colab-badge.svg\" alt=\"Open In Colab\"/></a>"
      ]
    },
    {
      "cell_type": "code",
      "execution_count": 1,
      "metadata": {
        "colab": {
          "base_uri": "https://localhost:8080/"
        },
        "id": "xbpY2zkISCs4",
        "outputId": "ffd30b34-88e3-4808-b8dc-46c9699d454b"
      },
      "outputs": [
        {
          "output_type": "stream",
          "name": "stdout",
          "text": [
            "Downloading data from https://storage.googleapis.com/tensorflow/tf-keras-datasets/train-labels-idx1-ubyte.gz\n",
            "29515/29515 [==============================] - 0s 0us/step\n",
            "Downloading data from https://storage.googleapis.com/tensorflow/tf-keras-datasets/train-images-idx3-ubyte.gz\n",
            "26421880/26421880 [==============================] - 1s 0us/step\n",
            "Downloading data from https://storage.googleapis.com/tensorflow/tf-keras-datasets/t10k-labels-idx1-ubyte.gz\n",
            "5148/5148 [==============================] - 0s 0us/step\n",
            "Downloading data from https://storage.googleapis.com/tensorflow/tf-keras-datasets/t10k-images-idx3-ubyte.gz\n",
            "4422102/4422102 [==============================] - 0s 0us/step\n"
          ]
        }
      ],
      "source": [
        "\n",
        "import tensorflow as tf\n",
        "import matplotlib.pyplot as plt\n",
        "import numpy as np\n",
        "\n",
        "\n",
        "fashion_mnist = tf.keras.datasets.fashion_mnist\n",
        "\n",
        "(x_train, y_train), (x_test, y_test) = fashion_mnist.load_data()"
      ]
    },
    {
      "cell_type": "code",
      "source": [
        "from tensorflow.keras.layers import Dense, Dropout, Flatten, Conv2D, MaxPooling2D\n",
        "from tensorflow.keras.callbacks import ModelCheckpoint,EarlyStopping\n",
        "from tensorflow.keras import Model\n",
        "from tensorflow.keras.utils import to_categorical\n",
        "from tensorflow.keras.models import Sequential\n",
        "from tensorflow.keras.layers import Dense, GlobalMaxPool2D, GlobalAveragePooling2D\n",
        "from tensorflow.keras.applications import ResNet50, VGG16\n",
        "\n",
        "\n",
        "\n",
        "#trans_model = ResNet50(include_top=False,\n",
        "#                 weights=\"imagenet\",\n",
        "#                 ##input_tensor=None,  ## include_top=False 이면 None\n",
        "#                 input_shape=(200,200,3),    ## include_top=False 이면 None\n",
        "#                 ##pooling=None,\n",
        "#                 classes=1000) #imagenet을 하려면 1000을 값으로 씀\n",
        "\n",
        "trans_model = VGG16(include_top=False, # VGG내부에 원래 있던 마지막 fully connected part를 사용할까? 말까?\n",
        "                 weights=\"imagenet\",\n",
        "                 ##input_tensor=None,  ## include_top=False 이면 None\n",
        "                 input_shape=(224,224,3),    ## include_top=False 이면 None\n",
        "                 ##pooling=None,\n",
        "                 classes=1000) #imagenet을 하려면 1000을 값으로 씀\n",
        "\n",
        "## https://keras.io/api/applications/resnet/ \n",
        "\n",
        "## 학생들에게 include_top=False와 True 일 때, 맨마지막 prediction을 보여 주시오.\n",
        "trans_model.summary()"
      ],
      "metadata": {
        "colab": {
          "base_uri": "https://localhost:8080/"
        },
        "id": "zdwJuwzVSGyh",
        "outputId": "60542f7b-6950-4ec2-83c3-14b662046fd8"
      },
      "execution_count": 3,
      "outputs": [
        {
          "output_type": "stream",
          "name": "stdout",
          "text": [
            "Downloading data from https://storage.googleapis.com/tensorflow/keras-applications/vgg16/vgg16_weights_tf_dim_ordering_tf_kernels_notop.h5\n",
            "58889256/58889256 [==============================] - 1s 0us/step\n",
            "Model: \"vgg16\"\n",
            "_________________________________________________________________\n",
            " Layer (type)                Output Shape              Param #   \n",
            "=================================================================\n",
            " input_1 (InputLayer)        [(None, 224, 224, 3)]     0         \n",
            "                                                                 \n",
            " block1_conv1 (Conv2D)       (None, 224, 224, 64)      1792      \n",
            "                                                                 \n",
            " block1_conv2 (Conv2D)       (None, 224, 224, 64)      36928     \n",
            "                                                                 \n",
            " block1_pool (MaxPooling2D)  (None, 112, 112, 64)      0         \n",
            "                                                                 \n",
            " block2_conv1 (Conv2D)       (None, 112, 112, 128)     73856     \n",
            "                                                                 \n",
            " block2_conv2 (Conv2D)       (None, 112, 112, 128)     147584    \n",
            "                                                                 \n",
            " block2_pool (MaxPooling2D)  (None, 56, 56, 128)       0         \n",
            "                                                                 \n",
            " block3_conv1 (Conv2D)       (None, 56, 56, 256)       295168    \n",
            "                                                                 \n",
            " block3_conv2 (Conv2D)       (None, 56, 56, 256)       590080    \n",
            "                                                                 \n",
            " block3_conv3 (Conv2D)       (None, 56, 56, 256)       590080    \n",
            "                                                                 \n",
            " block3_pool (MaxPooling2D)  (None, 28, 28, 256)       0         \n",
            "                                                                 \n",
            " block4_conv1 (Conv2D)       (None, 28, 28, 512)       1180160   \n",
            "                                                                 \n",
            " block4_conv2 (Conv2D)       (None, 28, 28, 512)       2359808   \n",
            "                                                                 \n",
            " block4_conv3 (Conv2D)       (None, 28, 28, 512)       2359808   \n",
            "                                                                 \n",
            " block4_pool (MaxPooling2D)  (None, 14, 14, 512)       0         \n",
            "                                                                 \n",
            " block5_conv1 (Conv2D)       (None, 14, 14, 512)       2359808   \n",
            "                                                                 \n",
            " block5_conv2 (Conv2D)       (None, 14, 14, 512)       2359808   \n",
            "                                                                 \n",
            " block5_conv3 (Conv2D)       (None, 14, 14, 512)       2359808   \n",
            "                                                                 \n",
            " block5_pool (MaxPooling2D)  (None, 7, 7, 512)         0         \n",
            "                                                                 \n",
            "=================================================================\n",
            "Total params: 14,714,688\n",
            "Trainable params: 14,714,688\n",
            "Non-trainable params: 0\n",
            "_________________________________________________________________\n"
          ]
        }
      ]
    },
    {
      "cell_type": "code",
      "source": [
        "\n",
        "x_train = x_train.reshape(x_train.shape[0], 28, 28, 1).astype('float32') / 255\n",
        "x_test = x_test.reshape(x_test.shape[0], 28, 28, 1).astype('float32') / 255\n",
        "y_train = to_categorical(y_train)\n",
        "y_test = to_categorical(y_test)"
      ],
      "metadata": {
        "id": "bN_3MOLPSux9"
      },
      "execution_count": 4,
      "outputs": []
    },
    {
      "cell_type": "code",
      "source": [
        "# 컨볼루션 신경망의 설정\n",
        "model = Sequential()\n",
        "model.add(Conv2D(32, kernel_size=(1,1), input_shape=(28, 28, 1), activation='relu'))\n",
        "model.add(Conv2D(64, (1,1), activation='relu'))\n",
        "model.add(MaxPooling2D(pool_size=(2,2)))\n",
        "model.add(Dropout(0.25))\n",
        "model.add(Flatten())\n",
        "model.add(Dense(128,  activation='relu'))\n",
        "model.add(Dropout(0.1))\n",
        "model.add(Dense(10, activation='softmax'))\n",
        "\n",
        "# 모델의 실행 옵션을 설정합니다.\n",
        "model.compile(loss='categorical_crossentropy',\n",
        "              optimizer='adam',\n",
        "              metrics=['accuracy'])\n",
        "\n",
        "# 모델 최적화를 위한 설정 구간입니다.\n",
        "\n",
        "#MODEL_DIR = './data/model/'\n",
        "#if not os.path.exists(MODEL_DIR):\n",
        "#    os.mkdir(MODEL_DIR)\n",
        "\n",
        "modelpath=\"./data/model/MNIST_CNN.hdf5\"\n",
        "\n",
        "\n",
        "checkpointer = ModelCheckpoint(filepath=modelpath, monitor='val_loss', verbose=1, save_best_only=True)\n",
        "early_stopping_callback = EarlyStopping(monitor='val_loss', patience=10)\n",
        "\n",
        "# 모델을 실행합니다.\n",
        "history = model.fit(x_train, y_train, validation_split=0.25, epochs=30, batch_size=200, verbose=0, callbacks=[early_stopping_callback,checkpointer])\n",
        "\n",
        "# 테스트 정확도를 출력합니다.\n",
        "print(\"\\n Test Accuracy: %.4f\" % (model.evaluate(x_test, y_test)[1]))\n",
        "\n"
      ],
      "metadata": {
        "colab": {
          "base_uri": "https://localhost:8080/"
        },
        "id": "Yg9-BS9zSvNd",
        "outputId": "6a443fd3-1811-4c57-d288-8b395e17e071"
      },
      "execution_count": 6,
      "outputs": [
        {
          "output_type": "stream",
          "name": "stdout",
          "text": [
            "\n",
            "Epoch 1: val_loss improved from inf to 0.44891, saving model to ./data/model/MNIST_CNN.hdf5\n",
            "\n",
            "Epoch 2: val_loss improved from 0.44891 to 0.41797, saving model to ./data/model/MNIST_CNN.hdf5\n",
            "\n",
            "Epoch 3: val_loss improved from 0.41797 to 0.35753, saving model to ./data/model/MNIST_CNN.hdf5\n",
            "\n",
            "Epoch 4: val_loss improved from 0.35753 to 0.35382, saving model to ./data/model/MNIST_CNN.hdf5\n",
            "\n",
            "Epoch 5: val_loss improved from 0.35382 to 0.33978, saving model to ./data/model/MNIST_CNN.hdf5\n",
            "\n",
            "Epoch 6: val_loss did not improve from 0.33978\n",
            "\n",
            "Epoch 7: val_loss improved from 0.33978 to 0.32078, saving model to ./data/model/MNIST_CNN.hdf5\n",
            "\n",
            "Epoch 8: val_loss improved from 0.32078 to 0.31706, saving model to ./data/model/MNIST_CNN.hdf5\n",
            "\n",
            "Epoch 9: val_loss improved from 0.31706 to 0.31539, saving model to ./data/model/MNIST_CNN.hdf5\n",
            "\n",
            "Epoch 10: val_loss improved from 0.31539 to 0.31264, saving model to ./data/model/MNIST_CNN.hdf5\n",
            "\n",
            "Epoch 11: val_loss did not improve from 0.31264\n",
            "\n",
            "Epoch 12: val_loss improved from 0.31264 to 0.30682, saving model to ./data/model/MNIST_CNN.hdf5\n",
            "\n",
            "Epoch 13: val_loss did not improve from 0.30682\n",
            "\n",
            "Epoch 14: val_loss did not improve from 0.30682\n",
            "\n",
            "Epoch 15: val_loss did not improve from 0.30682\n",
            "\n",
            "Epoch 16: val_loss improved from 0.30682 to 0.29838, saving model to ./data/model/MNIST_CNN.hdf5\n",
            "\n",
            "Epoch 17: val_loss improved from 0.29838 to 0.29491, saving model to ./data/model/MNIST_CNN.hdf5\n",
            "\n",
            "Epoch 18: val_loss did not improve from 0.29491\n",
            "\n",
            "Epoch 19: val_loss did not improve from 0.29491\n",
            "\n",
            "Epoch 20: val_loss improved from 0.29491 to 0.29345, saving model to ./data/model/MNIST_CNN.hdf5\n",
            "\n",
            "Epoch 21: val_loss did not improve from 0.29345\n",
            "\n",
            "Epoch 22: val_loss improved from 0.29345 to 0.29239, saving model to ./data/model/MNIST_CNN.hdf5\n",
            "\n",
            "Epoch 23: val_loss did not improve from 0.29239\n",
            "\n",
            "Epoch 24: val_loss improved from 0.29239 to 0.28895, saving model to ./data/model/MNIST_CNN.hdf5\n",
            "\n",
            "Epoch 25: val_loss did not improve from 0.28895\n",
            "\n",
            "Epoch 26: val_loss improved from 0.28895 to 0.28866, saving model to ./data/model/MNIST_CNN.hdf5\n",
            "\n",
            "Epoch 27: val_loss improved from 0.28866 to 0.28583, saving model to ./data/model/MNIST_CNN.hdf5\n",
            "\n",
            "Epoch 28: val_loss did not improve from 0.28583\n",
            "\n",
            "Epoch 29: val_loss did not improve from 0.28583\n",
            "\n",
            "Epoch 30: val_loss did not improve from 0.28583\n",
            "313/313 [==============================] - 3s 8ms/step - loss: 0.3158 - accuracy: 0.8907\n",
            "\n",
            " Test Accuracy: 0.8907\n"
          ]
        }
      ]
    }
  ]
}