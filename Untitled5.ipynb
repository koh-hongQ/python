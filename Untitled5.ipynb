
{
  "nbformat": 4,
  "nbformat_minor": 0,
  "metadata": {
    "colab": {
      "provenance": [],
      "authorship_tag": "ABX9TyMlOTpKW5MJhrK1ieQyi58b",
      "include_colab_link": true
    },
    "kernelspec": {
      "name": "python3",
      "display_name": "Python 3"
    },
    "language_info": {
      "name": "python"
    }
  },
  "cells": [
    {
      "cell_type": "markdown",
      "metadata": {
        "id": "view-in-github",
        "colab_type": "text"
      },
      "source": [
        "<a href=\"https://colab.research.google.com/github/koh-hongQ/python/blob/main/Untitled5.ipynb\" target=\"_parent\"><img src=\"https://colab.research.google.com/assets/colab-badge.svg\" alt=\"Open In Colab\"/></a>"
      ]
    },
    {
      "cell_type": "code",
      "execution_count": null,
      "metadata": {
        "id": "x53e_vhjA9tP"
      },
      "outputs": [],
      "source": [
        "N=int(input('자연수 한 개를 입력하세요.')) \n",
        "\n",
        "list=[N]\n",
        "\n",
        "while len(list) < 100 :\n",
        "    M=int(input('계속 입력을 원하시면, 자연수 한 개를 입력하시고, 아니라면 0을 입력하세요.'))\n",
        "    \n",
        "    if M==0 :\n",
        "         break\n",
        "\n",
        "    else :\n",
        "      list.append(M)\n",
        "\n",
        "if len(list) == 100 :\n",
        "  print('이제 그만하세요. 벌써 100개를 입력했어요.')\n",
        "\n",
        "for i in range(len(list)) :\n",
        "  max_index=i\n",
        "  for j in range(i+1, len(list)) :\n",
        "    if list[max_index] < list[j] :\n",
        "      max_index=j\n",
        "  list[i], list[max_index]=list[max_index], list[i]\n",
        "L=str(list)[1:-1]\n",
        "\n",
        "print('당신이 입력한 숫자는 큰 것부터 순서대로 말한다면 아래와 같습니다.', L)"
      ]
    },
    {
      "cell_type": "code",
      "source": [
        "x=int(input())\n",
        "\n",
        "if x <= 30 :\n",
        "  y=1\n",
        "\n",
        "  while x > 0 :\n",
        "    print('*'*(y-1), end='')\n",
        "    print(y)\n",
        "\n",
        "    y += 1\n",
        "    x -= 1\n",
        "\n",
        "else :\n",
        "  print(\"너무 많다.\")"
      ],
      "metadata": {
        "id": "jnNnyigEA-Wj"
      },
      "execution_count": null,
      "outputs": []
    }
  ]
}
